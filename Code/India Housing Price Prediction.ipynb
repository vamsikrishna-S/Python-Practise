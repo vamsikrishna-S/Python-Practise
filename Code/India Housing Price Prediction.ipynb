{
 "cells": [
  {
   "cell_type": "code",
   "execution_count": 1,
   "id": "7bc1b8b5-533a-4c34-a193-e70887e36569",
   "metadata": {},
   "outputs": [],
   "source": [
    "import pandas as pd\n",
    "import numpy as np\n",
    "import os\n",
    "import matplotlib.pyplot as plt\n",
    "import seaborn as sns\n",
    "import warnings\n",
    "warnings.filterwarnings('ignore')"
   ]
  },
  {
   "cell_type": "code",
   "execution_count": 2,
   "id": "300876a4-2932-436f-a5e7-bb727e836c75",
   "metadata": {},
   "outputs": [],
   "source": [
    "df=pd.read_csv(r'india_housing_prices.csv')"
   ]
  },
  {
   "cell_type": "code",
   "execution_count": 3,
   "id": "02815e75-4def-4e03-bfee-a6c649cbf122",
   "metadata": {},
   "outputs": [
    {
     "data": {
      "text/html": [
       "<div>\n",
       "<style scoped>\n",
       "    .dataframe tbody tr th:only-of-type {\n",
       "        vertical-align: middle;\n",
       "    }\n",
       "\n",
       "    .dataframe tbody tr th {\n",
       "        vertical-align: top;\n",
       "    }\n",
       "\n",
       "    .dataframe thead th {\n",
       "        text-align: right;\n",
       "    }\n",
       "</style>\n",
       "<table border=\"1\" class=\"dataframe\">\n",
       "  <thead>\n",
       "    <tr style=\"text-align: right;\">\n",
       "      <th></th>\n",
       "      <th>ID</th>\n",
       "      <th>State</th>\n",
       "      <th>City</th>\n",
       "      <th>Locality</th>\n",
       "      <th>Property_Type</th>\n",
       "      <th>BHK</th>\n",
       "      <th>Size_in_SqFt</th>\n",
       "      <th>Price_in_Lakhs</th>\n",
       "      <th>Price_per_SqFt</th>\n",
       "      <th>Year_Built</th>\n",
       "      <th>...</th>\n",
       "      <th>Age_of_Property</th>\n",
       "      <th>Nearby_Schools</th>\n",
       "      <th>Nearby_Hospitals</th>\n",
       "      <th>Public_Transport_Accessibility</th>\n",
       "      <th>Parking_Space</th>\n",
       "      <th>Security</th>\n",
       "      <th>Amenities</th>\n",
       "      <th>Facing</th>\n",
       "      <th>Owner_Type</th>\n",
       "      <th>Availability_Status</th>\n",
       "    </tr>\n",
       "  </thead>\n",
       "  <tbody>\n",
       "    <tr>\n",
       "      <th>0</th>\n",
       "      <td>1</td>\n",
       "      <td>Tamil Nadu</td>\n",
       "      <td>Chennai</td>\n",
       "      <td>Locality_84</td>\n",
       "      <td>Apartment</td>\n",
       "      <td>1</td>\n",
       "      <td>4740</td>\n",
       "      <td>489.76</td>\n",
       "      <td>0.10</td>\n",
       "      <td>1990</td>\n",
       "      <td>...</td>\n",
       "      <td>35</td>\n",
       "      <td>10</td>\n",
       "      <td>3</td>\n",
       "      <td>High</td>\n",
       "      <td>No</td>\n",
       "      <td>No</td>\n",
       "      <td>Playground, Gym, Garden, Pool, Clubhouse</td>\n",
       "      <td>West</td>\n",
       "      <td>Owner</td>\n",
       "      <td>Ready_to_Move</td>\n",
       "    </tr>\n",
       "    <tr>\n",
       "      <th>1</th>\n",
       "      <td>2</td>\n",
       "      <td>Maharashtra</td>\n",
       "      <td>Pune</td>\n",
       "      <td>Locality_490</td>\n",
       "      <td>Independent House</td>\n",
       "      <td>3</td>\n",
       "      <td>2364</td>\n",
       "      <td>195.52</td>\n",
       "      <td>0.08</td>\n",
       "      <td>2008</td>\n",
       "      <td>...</td>\n",
       "      <td>17</td>\n",
       "      <td>8</td>\n",
       "      <td>1</td>\n",
       "      <td>Low</td>\n",
       "      <td>No</td>\n",
       "      <td>Yes</td>\n",
       "      <td>Playground, Clubhouse, Pool, Gym, Garden</td>\n",
       "      <td>North</td>\n",
       "      <td>Builder</td>\n",
       "      <td>Under_Construction</td>\n",
       "    </tr>\n",
       "    <tr>\n",
       "      <th>2</th>\n",
       "      <td>3</td>\n",
       "      <td>Punjab</td>\n",
       "      <td>Ludhiana</td>\n",
       "      <td>Locality_167</td>\n",
       "      <td>Apartment</td>\n",
       "      <td>2</td>\n",
       "      <td>3642</td>\n",
       "      <td>183.79</td>\n",
       "      <td>0.05</td>\n",
       "      <td>1997</td>\n",
       "      <td>...</td>\n",
       "      <td>28</td>\n",
       "      <td>9</td>\n",
       "      <td>8</td>\n",
       "      <td>Low</td>\n",
       "      <td>Yes</td>\n",
       "      <td>No</td>\n",
       "      <td>Clubhouse, Pool, Playground, Gym</td>\n",
       "      <td>South</td>\n",
       "      <td>Broker</td>\n",
       "      <td>Ready_to_Move</td>\n",
       "    </tr>\n",
       "    <tr>\n",
       "      <th>3</th>\n",
       "      <td>4</td>\n",
       "      <td>Rajasthan</td>\n",
       "      <td>Jodhpur</td>\n",
       "      <td>Locality_393</td>\n",
       "      <td>Independent House</td>\n",
       "      <td>2</td>\n",
       "      <td>2741</td>\n",
       "      <td>300.29</td>\n",
       "      <td>0.11</td>\n",
       "      <td>1991</td>\n",
       "      <td>...</td>\n",
       "      <td>34</td>\n",
       "      <td>5</td>\n",
       "      <td>7</td>\n",
       "      <td>High</td>\n",
       "      <td>Yes</td>\n",
       "      <td>Yes</td>\n",
       "      <td>Playground, Clubhouse, Gym, Pool, Garden</td>\n",
       "      <td>North</td>\n",
       "      <td>Builder</td>\n",
       "      <td>Ready_to_Move</td>\n",
       "    </tr>\n",
       "    <tr>\n",
       "      <th>4</th>\n",
       "      <td>5</td>\n",
       "      <td>Rajasthan</td>\n",
       "      <td>Jaipur</td>\n",
       "      <td>Locality_466</td>\n",
       "      <td>Villa</td>\n",
       "      <td>4</td>\n",
       "      <td>4823</td>\n",
       "      <td>182.90</td>\n",
       "      <td>0.04</td>\n",
       "      <td>2002</td>\n",
       "      <td>...</td>\n",
       "      <td>23</td>\n",
       "      <td>4</td>\n",
       "      <td>9</td>\n",
       "      <td>Low</td>\n",
       "      <td>No</td>\n",
       "      <td>Yes</td>\n",
       "      <td>Playground, Garden, Gym, Pool, Clubhouse</td>\n",
       "      <td>East</td>\n",
       "      <td>Builder</td>\n",
       "      <td>Ready_to_Move</td>\n",
       "    </tr>\n",
       "    <tr>\n",
       "      <th>5</th>\n",
       "      <td>6</td>\n",
       "      <td>West Bengal</td>\n",
       "      <td>Durgapur</td>\n",
       "      <td>Locality_246</td>\n",
       "      <td>Apartment</td>\n",
       "      <td>4</td>\n",
       "      <td>3500</td>\n",
       "      <td>135.28</td>\n",
       "      <td>0.04</td>\n",
       "      <td>2020</td>\n",
       "      <td>...</td>\n",
       "      <td>5</td>\n",
       "      <td>7</td>\n",
       "      <td>7</td>\n",
       "      <td>Low</td>\n",
       "      <td>Yes</td>\n",
       "      <td>Yes</td>\n",
       "      <td>Playground, Clubhouse</td>\n",
       "      <td>West</td>\n",
       "      <td>Broker</td>\n",
       "      <td>Ready_to_Move</td>\n",
       "    </tr>\n",
       "    <tr>\n",
       "      <th>6</th>\n",
       "      <td>7</td>\n",
       "      <td>Tamil Nadu</td>\n",
       "      <td>Coimbatore</td>\n",
       "      <td>Locality_254</td>\n",
       "      <td>Independent House</td>\n",
       "      <td>3</td>\n",
       "      <td>4826</td>\n",
       "      <td>318.12</td>\n",
       "      <td>0.07</td>\n",
       "      <td>2016</td>\n",
       "      <td>...</td>\n",
       "      <td>9</td>\n",
       "      <td>3</td>\n",
       "      <td>6</td>\n",
       "      <td>High</td>\n",
       "      <td>No</td>\n",
       "      <td>Yes</td>\n",
       "      <td>Clubhouse, Garden, Playground</td>\n",
       "      <td>North</td>\n",
       "      <td>Builder</td>\n",
       "      <td>Under_Construction</td>\n",
       "    </tr>\n",
       "    <tr>\n",
       "      <th>7</th>\n",
       "      <td>8</td>\n",
       "      <td>Chhattisgarh</td>\n",
       "      <td>Bilaspur</td>\n",
       "      <td>Locality_490</td>\n",
       "      <td>Independent House</td>\n",
       "      <td>5</td>\n",
       "      <td>4252</td>\n",
       "      <td>141.39</td>\n",
       "      <td>0.03</td>\n",
       "      <td>2021</td>\n",
       "      <td>...</td>\n",
       "      <td>4</td>\n",
       "      <td>10</td>\n",
       "      <td>10</td>\n",
       "      <td>High</td>\n",
       "      <td>Yes</td>\n",
       "      <td>Yes</td>\n",
       "      <td>Gym, Pool, Clubhouse, Playground</td>\n",
       "      <td>North</td>\n",
       "      <td>Builder</td>\n",
       "      <td>Under_Construction</td>\n",
       "    </tr>\n",
       "    <tr>\n",
       "      <th>8</th>\n",
       "      <td>9</td>\n",
       "      <td>Delhi</td>\n",
       "      <td>New Delhi</td>\n",
       "      <td>Locality_232</td>\n",
       "      <td>Villa</td>\n",
       "      <td>4</td>\n",
       "      <td>2678</td>\n",
       "      <td>189.16</td>\n",
       "      <td>0.07</td>\n",
       "      <td>2003</td>\n",
       "      <td>...</td>\n",
       "      <td>22</td>\n",
       "      <td>7</td>\n",
       "      <td>5</td>\n",
       "      <td>Low</td>\n",
       "      <td>No</td>\n",
       "      <td>Yes</td>\n",
       "      <td>Garden, Clubhouse, Playground</td>\n",
       "      <td>South</td>\n",
       "      <td>Broker</td>\n",
       "      <td>Under_Construction</td>\n",
       "    </tr>\n",
       "    <tr>\n",
       "      <th>9</th>\n",
       "      <td>10</td>\n",
       "      <td>Jharkhand</td>\n",
       "      <td>Ranchi</td>\n",
       "      <td>Locality_122</td>\n",
       "      <td>Villa</td>\n",
       "      <td>2</td>\n",
       "      <td>1393</td>\n",
       "      <td>187.42</td>\n",
       "      <td>0.13</td>\n",
       "      <td>2011</td>\n",
       "      <td>...</td>\n",
       "      <td>14</td>\n",
       "      <td>3</td>\n",
       "      <td>3</td>\n",
       "      <td>High</td>\n",
       "      <td>Yes</td>\n",
       "      <td>No</td>\n",
       "      <td>Clubhouse, Playground, Garden, Gym</td>\n",
       "      <td>East</td>\n",
       "      <td>Owner</td>\n",
       "      <td>Ready_to_Move</td>\n",
       "    </tr>\n",
       "  </tbody>\n",
       "</table>\n",
       "<p>10 rows × 23 columns</p>\n",
       "</div>"
      ],
      "text/plain": [
       "   ID         State        City      Locality      Property_Type  BHK  \\\n",
       "0   1    Tamil Nadu     Chennai   Locality_84          Apartment    1   \n",
       "1   2   Maharashtra        Pune  Locality_490  Independent House    3   \n",
       "2   3        Punjab    Ludhiana  Locality_167          Apartment    2   \n",
       "3   4     Rajasthan     Jodhpur  Locality_393  Independent House    2   \n",
       "4   5     Rajasthan      Jaipur  Locality_466              Villa    4   \n",
       "5   6   West Bengal    Durgapur  Locality_246          Apartment    4   \n",
       "6   7    Tamil Nadu  Coimbatore  Locality_254  Independent House    3   \n",
       "7   8  Chhattisgarh    Bilaspur  Locality_490  Independent House    5   \n",
       "8   9         Delhi   New Delhi  Locality_232              Villa    4   \n",
       "9  10     Jharkhand      Ranchi  Locality_122              Villa    2   \n",
       "\n",
       "   Size_in_SqFt  Price_in_Lakhs  Price_per_SqFt  Year_Built  ...  \\\n",
       "0          4740          489.76            0.10        1990  ...   \n",
       "1          2364          195.52            0.08        2008  ...   \n",
       "2          3642          183.79            0.05        1997  ...   \n",
       "3          2741          300.29            0.11        1991  ...   \n",
       "4          4823          182.90            0.04        2002  ...   \n",
       "5          3500          135.28            0.04        2020  ...   \n",
       "6          4826          318.12            0.07        2016  ...   \n",
       "7          4252          141.39            0.03        2021  ...   \n",
       "8          2678          189.16            0.07        2003  ...   \n",
       "9          1393          187.42            0.13        2011  ...   \n",
       "\n",
       "  Age_of_Property  Nearby_Schools  Nearby_Hospitals  \\\n",
       "0              35              10                 3   \n",
       "1              17               8                 1   \n",
       "2              28               9                 8   \n",
       "3              34               5                 7   \n",
       "4              23               4                 9   \n",
       "5               5               7                 7   \n",
       "6               9               3                 6   \n",
       "7               4              10                10   \n",
       "8              22               7                 5   \n",
       "9              14               3                 3   \n",
       "\n",
       "   Public_Transport_Accessibility  Parking_Space  Security  \\\n",
       "0                            High             No        No   \n",
       "1                             Low             No       Yes   \n",
       "2                             Low            Yes        No   \n",
       "3                            High            Yes       Yes   \n",
       "4                             Low             No       Yes   \n",
       "5                             Low            Yes       Yes   \n",
       "6                            High             No       Yes   \n",
       "7                            High            Yes       Yes   \n",
       "8                             Low             No       Yes   \n",
       "9                            High            Yes        No   \n",
       "\n",
       "                                  Amenities Facing Owner_Type  \\\n",
       "0  Playground, Gym, Garden, Pool, Clubhouse   West      Owner   \n",
       "1  Playground, Clubhouse, Pool, Gym, Garden  North    Builder   \n",
       "2          Clubhouse, Pool, Playground, Gym  South     Broker   \n",
       "3  Playground, Clubhouse, Gym, Pool, Garden  North    Builder   \n",
       "4  Playground, Garden, Gym, Pool, Clubhouse   East    Builder   \n",
       "5                     Playground, Clubhouse   West     Broker   \n",
       "6             Clubhouse, Garden, Playground  North    Builder   \n",
       "7          Gym, Pool, Clubhouse, Playground  North    Builder   \n",
       "8             Garden, Clubhouse, Playground  South     Broker   \n",
       "9        Clubhouse, Playground, Garden, Gym   East      Owner   \n",
       "\n",
       "  Availability_Status  \n",
       "0       Ready_to_Move  \n",
       "1  Under_Construction  \n",
       "2       Ready_to_Move  \n",
       "3       Ready_to_Move  \n",
       "4       Ready_to_Move  \n",
       "5       Ready_to_Move  \n",
       "6  Under_Construction  \n",
       "7  Under_Construction  \n",
       "8  Under_Construction  \n",
       "9       Ready_to_Move  \n",
       "\n",
       "[10 rows x 23 columns]"
      ]
     },
     "execution_count": 3,
     "metadata": {},
     "output_type": "execute_result"
    }
   ],
   "source": [
    "df.head(10)"
   ]
  },
  {
   "cell_type": "code",
   "execution_count": 4,
   "id": "3c220266-ffb1-442e-ac26-8718f44875b9",
   "metadata": {},
   "outputs": [
    {
     "name": "stdout",
     "output_type": "stream",
     "text": [
      "<class 'pandas.core.frame.DataFrame'>\n",
      "RangeIndex: 250000 entries, 0 to 249999\n",
      "Data columns (total 23 columns):\n",
      " #   Column                          Non-Null Count   Dtype  \n",
      "---  ------                          --------------   -----  \n",
      " 0   ID                              250000 non-null  int64  \n",
      " 1   State                           250000 non-null  object \n",
      " 2   City                            250000 non-null  object \n",
      " 3   Locality                        250000 non-null  object \n",
      " 4   Property_Type                   250000 non-null  object \n",
      " 5   BHK                             250000 non-null  int64  \n",
      " 6   Size_in_SqFt                    250000 non-null  int64  \n",
      " 7   Price_in_Lakhs                  250000 non-null  float64\n",
      " 8   Price_per_SqFt                  250000 non-null  float64\n",
      " 9   Year_Built                      250000 non-null  int64  \n",
      " 10  Furnished_Status                250000 non-null  object \n",
      " 11  Floor_No                        250000 non-null  int64  \n",
      " 12  Total_Floors                    250000 non-null  int64  \n",
      " 13  Age_of_Property                 250000 non-null  int64  \n",
      " 14  Nearby_Schools                  250000 non-null  int64  \n",
      " 15  Nearby_Hospitals                250000 non-null  int64  \n",
      " 16  Public_Transport_Accessibility  250000 non-null  object \n",
      " 17  Parking_Space                   250000 non-null  object \n",
      " 18  Security                        250000 non-null  object \n",
      " 19  Amenities                       250000 non-null  object \n",
      " 20  Facing                          250000 non-null  object \n",
      " 21  Owner_Type                      250000 non-null  object \n",
      " 22  Availability_Status             250000 non-null  object \n",
      "dtypes: float64(2), int64(9), object(12)\n",
      "memory usage: 43.9+ MB\n"
     ]
    }
   ],
   "source": [
    "df.info()"
   ]
  },
  {
   "cell_type": "code",
   "execution_count": 5,
   "id": "504dd520-c2cc-410f-8b0b-0a71474f4b00",
   "metadata": {},
   "outputs": [
    {
     "data": {
      "text/plain": [
       "ID                                0\n",
       "State                             0\n",
       "City                              0\n",
       "Locality                          0\n",
       "Property_Type                     0\n",
       "BHK                               0\n",
       "Size_in_SqFt                      0\n",
       "Price_in_Lakhs                    0\n",
       "Price_per_SqFt                    0\n",
       "Year_Built                        0\n",
       "Furnished_Status                  0\n",
       "Floor_No                          0\n",
       "Total_Floors                      0\n",
       "Age_of_Property                   0\n",
       "Nearby_Schools                    0\n",
       "Nearby_Hospitals                  0\n",
       "Public_Transport_Accessibility    0\n",
       "Parking_Space                     0\n",
       "Security                          0\n",
       "Amenities                         0\n",
       "Facing                            0\n",
       "Owner_Type                        0\n",
       "Availability_Status               0\n",
       "dtype: int64"
      ]
     },
     "execution_count": 5,
     "metadata": {},
     "output_type": "execute_result"
    }
   ],
   "source": [
    "df.isna().sum()"
   ]
  },
  {
   "cell_type": "markdown",
   "id": "cb45a6ac-9b86-4b62-aa46-c72a756c34e4",
   "metadata": {},
   "source": [
    "### does price depend significantly on state?"
   ]
  },
  {
   "cell_type": "code",
   "execution_count": 6,
   "id": "4065d3c2-5d9c-4e22-ab13-77f259fa3bdf",
   "metadata": {},
   "outputs": [
    {
     "data": {
      "image/png": "[encoded data removed]",
      "text/plain": [
       "<Figure size 640x480 with 1 Axes>"
      ]
     },
     "metadata": {},
     "output_type": "display_data"
    }
   ],
   "source": [
    "grouped_state=df.groupby('State')['Price_in_Lakhs'].agg(['median']).reset_index()\n",
    "sorted_categories=grouped_state.sort_values(by='median', ascending=False)['State']\n",
    "sns.boxplot(df, x='State', y='Price_in_Lakhs',order=sorted_categories)\n",
    "plt.xticks(rotation=90)\n",
    "plt.show()"
   ]
  },
  {
   "cell_type": "code",
   "execution_count": 7,
   "id": "8a306a3a-160f-44ed-9345-58ced823ec7e",
   "metadata": {},
   "outputs": [
    {
     "data": {
      "text/plain": [
       "<Axes: xlabel='Property_Type', ylabel='Price_in_Lakhs'>"
      ]
     },
     "execution_count": 7,
     "metadata": {},
     "output_type": "execute_result"
    },
    {
     "data": {
      "image/png": "[encoded data removed]",
      "text/plain": [
       "<Figure size 640x480 with 1 Axes>"
      ]
     },
     "metadata": {},
     "output_type": "display_data"
    }
   ],
   "source": [
    "sns.boxplot(df, x=\"Property_Type\", y=\"Price_in_Lakhs\")"
   ]
  },
  {
   "cell_type": "markdown",
   "id": "44d3a965-e3bb-475f-8630-b3f08df5aa5c",
   "metadata": {},
   "source": [
    "#### Joint Plots"
   ]
  },
  {
   "cell_type": "code",
   "execution_count": 92,
   "id": "d9825cbb-22cb-4e1d-b063-ee8105cb1905",
   "metadata": {},
   "outputs": [
    {
     "data": {
      "text/plain": [
       "<seaborn.axisgrid.JointGrid at 0x1e6cd052e40>"
      ]
     },
     "execution_count": 92,
     "metadata": {},
     "output_type": "execute_result"
    },
    {
     "data": {
      "image/png": "[encoded data removed]",
      "text/plain": [
       "<Figure size 600x600 with 3 Axes>"
      ]
     },
     "metadata": {},
     "output_type": "display_data"
    }
   ],
   "source": [
    "sns.jointplot(data=df, x='Price_per_SqFt', y='Price_in_Lakhs', kind='reg', color='blue')"
   ]
  },
  {
   "cell_type": "code",
   "execution_count": 93,
   "id": "edc2d2f2-9738-461a-8597-337f3a04ea43",
   "metadata": {},
   "outputs": [
    {
     "data": {
      "text/plain": [
       "<seaborn.axisgrid.JointGrid at 0x1e6cfc01760>"
      ]
     },
     "execution_count": 93,
     "metadata": {},
     "output_type": "execute_result"
    },
    {
     "data": {
      "image/png": "[encoded data removed]",
      "text/plain": [
       "<Figure size 600x600 with 3 Axes>"
      ]
     },
     "metadata": {},
     "output_type": "display_data"
    }
   ],
   "source": [
    "sns.jointplot(data=df, x='Nearby_Schools', y='Price_in_Lakhs', kind='reg', color='blue')"
   ]
  },
  {
   "cell_type": "code",
   "execution_count": 94,
   "id": "a63cd0b6-e200-410e-b371-626fcfffd3b7",
   "metadata": {},
   "outputs": [
    {
     "data": {
      "text/plain": [
       "<seaborn.axisgrid.JointGrid at 0x1e6bd6dc920>"
      ]
     },
     "execution_count": 94,
     "metadata": {},
     "output_type": "execute_result"
    },
    {
     "data": {
      "image/png": "[encoded data removed]",
      "text/plain": [
       "<Figure size 600x600 with 3 Axes>"
      ]
     },
     "metadata": {},
     "output_type": "display_data"
    }
   ],
   "source": [
    "sns.jointplot(data=df, x='Nearby_Hospitals', y='Price_in_Lakhs', kind='reg', color='blue')"
   ]
  },
  {
   "cell_type": "code",
   "execution_count": 96,
   "id": "d627bb9f-bc5e-4cfa-8d31-965a06a22e03",
   "metadata": {},
   "outputs": [
    {
     "data": {
      "text/plain": [
       "Security\n",
       "Yes    125233\n",
       "No     124767\n",
       "Name: count, dtype: int64"
      ]
     },
     "execution_count": 96,
     "metadata": {},
     "output_type": "execute_result"
    }
   ],
   "source": [
    "df.Security.value_counts()"
   ]
  },
  {
   "cell_type": "code",
   "execution_count": 8,
   "id": "68ce1aeb-1871-4ff2-b272-9be68375e710",
   "metadata": {},
   "outputs": [
    {
     "data": {
      "text/plain": [
       "Index(['ID', 'State', 'City', 'Locality', 'Property_Type', 'BHK',\n",
       "       'Size_in_SqFt', 'Price_in_Lakhs', 'Price_per_SqFt', 'Year_Built',\n",
       "       'Furnished_Status', 'Floor_No', 'Total_Floors', 'Age_of_Property',\n",
       "       'Nearby_Schools', 'Nearby_Hospitals', 'Public_Transport_Accessibility',\n",
       "       'Parking_Space', 'Security', 'Amenities', 'Facing', 'Owner_Type',\n",
       "       'Availability_Status'],\n",
       "      dtype='object')"
      ]
     },
     "execution_count": 8,
     "metadata": {},
     "output_type": "execute_result"
    }
   ],
   "source": [
    "df.columns"
   ]
  },
  {
   "cell_type": "code",
   "execution_count": 9,
   "id": "3b792967-2a29-42be-97ca-7b3e4137671c",
   "metadata": {},
   "outputs": [
    {
     "data": {
      "text/plain": [
       "Public_Transport_Accessibility\n",
       "High      83705\n",
       "Low       83287\n",
       "Medium    83008\n",
       "Name: count, dtype: int64"
      ]
     },
     "execution_count": 9,
     "metadata": {},
     "output_type": "execute_result"
    }
   ],
   "source": [
    "df.Public_Transport_Accessibility.value_counts()"
   ]
  },
  {
   "cell_type": "code",
   "execution_count": 10,
   "id": "427abe0e-21f8-4ca7-8ec7-c393c78765ae",
   "metadata": {},
   "outputs": [
    {
     "data": {
      "text/plain": [
       "count    250000.000000\n",
       "mean          0.130597\n",
       "std           0.130747\n",
       "min           0.000000\n",
       "25%           0.050000\n",
       "50%           0.090000\n",
       "75%           0.160000\n",
       "max           0.990000\n",
       "Name: Price_per_SqFt, dtype: float64"
      ]
     },
     "execution_count": 10,
     "metadata": {},
     "output_type": "execute_result"
    }
   ],
   "source": [
    "df.Price_per_SqFt.describe()"
   ]
  },
  {
   "cell_type": "code",
   "execution_count": 11,
   "id": "bac878a9-ab07-4cb8-be27-725df23df169",
   "metadata": {},
   "outputs": [
    {
     "data": {
      "text/plain": [
       "Year_Built\n",
       "2023    7568\n",
       "2004    7526\n",
       "2015    7487\n",
       "2007    7468\n",
       "1999    7456\n",
       "2003    7425\n",
       "2006    7416\n",
       "2000    7413\n",
       "2019    7390\n",
       "2014    7388\n",
       "2012    7385\n",
       "1993    7385\n",
       "2010    7378\n",
       "1992    7364\n",
       "2020    7359\n",
       "2017    7355\n",
       "1996    7354\n",
       "1997    7353\n",
       "1995    7350\n",
       "2021    7328\n",
       "2009    7326\n",
       "2002    7323\n",
       "1990    7314\n",
       "2022    7311\n",
       "2016    7307\n",
       "1994    7299\n",
       "2013    7283\n",
       "2005    7280\n",
       "2001    7271\n",
       "2011    7266\n",
       "2008    7236\n",
       "2018    7233\n",
       "1991    7218\n",
       "1998    7185\n",
       "Name: count, dtype: int64"
      ]
     },
     "execution_count": 11,
     "metadata": {},
     "output_type": "execute_result"
    }
   ],
   "source": [
    "df.Year_Built.value_counts()"
   ]
  },
  {
   "cell_type": "code",
   "execution_count": 12,
   "id": "3506370d-b789-471b-9433-04d5d2d213d1",
   "metadata": {},
   "outputs": [
    {
     "data": {
      "text/plain": [
       "count           250000\n",
       "unique             500\n",
       "top       Locality_296\n",
       "freq               567\n",
       "Name: Locality, dtype: object"
      ]
     },
     "execution_count": 12,
     "metadata": {},
     "output_type": "execute_result"
    }
   ],
   "source": [
    "df.Locality.describe()"
   ]
  },
  {
   "cell_type": "code",
   "execution_count": 13,
   "id": "61d6b07d-06cb-440e-916b-14ee7b74198a",
   "metadata": {},
   "outputs": [
    {
     "data": {
      "text/plain": [
       "0    Playground, Gym, Garden, Pool, Clubhouse\n",
       "1    Playground, Clubhouse, Pool, Gym, Garden\n",
       "2            Clubhouse, Pool, Playground, Gym\n",
       "3    Playground, Clubhouse, Gym, Pool, Garden\n",
       "4    Playground, Garden, Gym, Pool, Clubhouse\n",
       "5                       Playground, Clubhouse\n",
       "6               Clubhouse, Garden, Playground\n",
       "7            Gym, Pool, Clubhouse, Playground\n",
       "8               Garden, Clubhouse, Playground\n",
       "9          Clubhouse, Playground, Garden, Gym\n",
       "Name: Amenities, dtype: object"
      ]
     },
     "execution_count": 13,
     "metadata": {},
     "output_type": "execute_result"
    }
   ],
   "source": [
    "df.Amenities.head(10)"
   ]
  },
  {
   "cell_type": "code",
   "execution_count": 14,
   "id": "c5e0e577-d640-4754-8688-988b14a57e4c",
   "metadata": {
    "scrolled": true
   },
   "outputs": [
    {
     "data": {
      "text/plain": [
       "BHK\n",
       "1    50196\n",
       "5    50134\n",
       "3    50067\n",
       "2    49815\n",
       "4    49788\n",
       "Name: count, dtype: int64"
      ]
     },
     "execution_count": 14,
     "metadata": {},
     "output_type": "execute_result"
    }
   ],
   "source": [
    "df.BHK.value_counts()"
   ]
  },
  {
   "cell_type": "code",
   "execution_count": 15,
   "id": "8f1f12da-4d12-48f4-b397-dfa92edb0750",
   "metadata": {
    "scrolled": true
   },
   "outputs": [
    {
     "data": {
      "text/plain": [
       "Floor_No\n",
       "20    8283\n",
       "0     8203\n",
       "17    8197\n",
       "5     8174\n",
       "6     8166\n",
       "15    8154\n",
       "8     8149\n",
       "18    8145\n",
       "2     8125\n",
       "26    8114\n",
       "14    8108\n",
       "7     8106\n",
       "27    8091\n",
       "12    8077\n",
       "1     8076\n",
       "30    8076\n",
       "29    8075\n",
       "3     8073\n",
       "9     8064\n",
       "25    8056\n",
       "16    8051\n",
       "11    8041\n",
       "21    7991\n",
       "13    7990\n",
       "10    7975\n",
       "28    7966\n",
       "4     7949\n",
       "23    7912\n",
       "22    7876\n",
       "24    7869\n",
       "19    7868\n",
       "Name: count, dtype: int64"
      ]
     },
     "execution_count": 15,
     "metadata": {},
     "output_type": "execute_result"
    }
   ],
   "source": [
    "df.Floor_No.value_counts(dropna=False)"
   ]
  },
  {
   "cell_type": "code",
   "execution_count": 16,
   "id": "69d590d8-f87b-4a14-9863-692c33491e32",
   "metadata": {},
   "outputs": [
    {
     "data": {
      "text/plain": [
       "Furnished_Status\n",
       "Unfurnished       83408\n",
       "Semi-furnished    83374\n",
       "Furnished         83218\n",
       "Name: count, dtype: int64"
      ]
     },
     "execution_count": 16,
     "metadata": {},
     "output_type": "execute_result"
    }
   ],
   "source": [
    "df.Furnished_Status.value_counts()"
   ]
  },
  {
   "cell_type": "code",
   "execution_count": 17,
   "id": "6a4b0ec0-9c95-470b-88fe-df6f3386dc96",
   "metadata": {},
   "outputs": [
    {
     "data": {
      "text/plain": [
       "Total_Floors\n",
       "24    8520\n",
       "5     8501\n",
       "30    8485\n",
       "3     8439\n",
       "26    8432\n",
       "9     8416\n",
       "20    8414\n",
       "27    8403\n",
       "10    8395\n",
       "23    8388\n",
       "2     8380\n",
       "14    8367\n",
       "25    8354\n",
       "1     8347\n",
       "15    8336\n",
       "28    8334\n",
       "6     8327\n",
       "19    8316\n",
       "12    8303\n",
       "8     8301\n",
       "4     8297\n",
       "16    8279\n",
       "13    8271\n",
       "17    8251\n",
       "22    8218\n",
       "7     8216\n",
       "29    8212\n",
       "18    8205\n",
       "21    8158\n",
       "11    8135\n",
       "Name: count, dtype: int64"
      ]
     },
     "execution_count": 17,
     "metadata": {},
     "output_type": "execute_result"
    }
   ],
   "source": [
    "df.Total_Floors.value_counts()"
   ]
  },
  {
   "cell_type": "code",
   "execution_count": 18,
   "id": "85a79744-231d-459e-a750-c69f432bff94",
   "metadata": {
    "scrolled": true
   },
   "outputs": [
    {
     "data": {
      "text/plain": [
       "Nearby_Schools\n",
       "1     25360\n",
       "8     25290\n",
       "10    25237\n",
       "3     25045\n",
       "5     25023\n",
       "2     24851\n",
       "6     24824\n",
       "9     24823\n",
       "7     24808\n",
       "4     24739\n",
       "Name: count, dtype: int64"
      ]
     },
     "execution_count": 18,
     "metadata": {},
     "output_type": "execute_result"
    }
   ],
   "source": [
    "df['Nearby_Schools'].value_counts()"
   ]
  },
  {
   "cell_type": "code",
   "execution_count": 19,
   "id": "0098b316-eba6-416d-8ed5-2226c78c08fc",
   "metadata": {},
   "outputs": [
    {
     "data": {
      "text/plain": [
       "Nearby_Hospitals\n",
       "4     25168\n",
       "5     25102\n",
       "6     25082\n",
       "1     25075\n",
       "9     25014\n",
       "10    24987\n",
       "2     24960\n",
       "8     24891\n",
       "7     24887\n",
       "3     24834\n",
       "Name: count, dtype: int64"
      ]
     },
     "execution_count": 19,
     "metadata": {},
     "output_type": "execute_result"
    }
   ],
   "source": [
    "df['Nearby_Hospitals'].value_counts()"
   ]
  },
  {
   "cell_type": "code",
   "execution_count": 20,
   "id": "24144c4d-de92-404d-8555-5b23a37ab0d5",
   "metadata": {},
   "outputs": [
    {
     "data": {
      "text/plain": [
       "Public_Transport_Accessibility\n",
       "High      83705\n",
       "Low       83287\n",
       "Medium    83008\n",
       "Name: count, dtype: int64"
      ]
     },
     "execution_count": 20,
     "metadata": {},
     "output_type": "execute_result"
    }
   ],
   "source": [
    "df['Public_Transport_Accessibility'].value_counts()"
   ]
  },
  {
   "cell_type": "code",
   "execution_count": 21,
   "id": "59de087c-a219-4545-b8a5-7600e7d76e97",
   "metadata": {
    "scrolled": true
   },
   "outputs": [
    {
     "data": {
      "text/plain": [
       "Facing\n",
       "West     62757\n",
       "North    62637\n",
       "South    62337\n",
       "East     62269\n",
       "Name: count, dtype: int64"
      ]
     },
     "execution_count": 21,
     "metadata": {},
     "output_type": "execute_result"
    }
   ],
   "source": [
    "df['Facing'].value_counts()"
   ]
  },
  {
   "cell_type": "code",
   "execution_count": 22,
   "id": "07b41071-cafb-4ba5-b327-ebf20f49379b",
   "metadata": {
    "scrolled": true
   },
   "outputs": [
    {
     "data": {
      "text/plain": [
       "Owner_Type\n",
       "Broker     83479\n",
       "Owner      83268\n",
       "Builder    83253\n",
       "Name: count, dtype: int64"
      ]
     },
     "execution_count": 22,
     "metadata": {},
     "output_type": "execute_result"
    }
   ],
   "source": [
    "df['Owner_Type'].value_counts()"
   ]
  },
  {
   "cell_type": "code",
   "execution_count": 23,
   "id": "c44a7a91-eb27-479a-9e99-a338a4935e4d",
   "metadata": {},
   "outputs": [
    {
     "data": {
      "text/plain": [
       "Availability_Status\n",
       "Under_Construction    125035\n",
       "Ready_to_Move         124965\n",
       "Name: count, dtype: int64"
      ]
     },
     "execution_count": 23,
     "metadata": {},
     "output_type": "execute_result"
    }
   ],
   "source": [
    "df['Availability_Status'].value_counts()"
   ]
  },
  {
   "cell_type": "code",
   "execution_count": 24,
   "id": "85d6322e-b91c-4f46-97bc-0fc202bb7dee",
   "metadata": {},
   "outputs": [
    {
     "data": {
      "text/plain": [
       "Parking_Space\n",
       "No     125456\n",
       "Yes    124544\n",
       "Name: count, dtype: int64"
      ]
     },
     "execution_count": 24,
     "metadata": {},
     "output_type": "execute_result"
    }
   ],
   "source": [
    "df['Parking_Space'].value_counts()"
   ]
  },
  {
   "cell_type": "markdown",
   "id": "abc38757-6651-4507-b7a9-754ce50bcdb4",
   "metadata": {},
   "source": [
    "### Feature Engineering"
   ]
  },
  {
   "cell_type": "markdown",
   "id": "7091c039-c1af-4f01-8593-8b55280b7da1",
   "metadata": {},
   "source": [
    "##### Creating no of years from Year_Built"
   ]
  },
  {
   "cell_type": "code",
   "execution_count": 25,
   "id": "35297ee0-b408-462c-8bad-15421bf1ef17",
   "metadata": {},
   "outputs": [],
   "source": [
    "df['No_of_Years']=2025-df.Year_Built"
   ]
  },
  {
   "cell_type": "code",
   "execution_count": 26,
   "id": "adfd6dd6-a41b-41b9-8cac-bf17e0870596",
   "metadata": {},
   "outputs": [
    {
     "data": {
      "text/plain": [
       "(count    250000.000000\n",
       " mean         18.479988\n",
       " std           9.808575\n",
       " min           2.000000\n",
       " 25%          10.000000\n",
       " 50%          18.000000\n",
       " 75%          27.000000\n",
       " max          35.000000\n",
       " Name: No_of_Years, dtype: float64,\n",
       " count    250000.000000\n",
       " mean         18.479988\n",
       " std           9.808575\n",
       " min           2.000000\n",
       " 25%          10.000000\n",
       " 50%          18.000000\n",
       " 75%          27.000000\n",
       " max          35.000000\n",
       " Name: Age_of_Property, dtype: float64)"
      ]
     },
     "execution_count": 26,
     "metadata": {},
     "output_type": "execute_result"
    }
   ],
   "source": [
    "df.No_of_Years.describe(), df.Age_of_Property.describe()"
   ]
  },
  {
   "cell_type": "markdown",
   "id": "d2e9ccdb-9dec-4249-a3a8-d3d8dabf4513",
   "metadata": {},
   "source": [
    "##### Splitting amenities"
   ]
  },
  {
   "cell_type": "code",
   "execution_count": 27,
   "id": "5aa915fb-7cd1-41ef-a2b0-ea90e45bb0dd",
   "metadata": {},
   "outputs": [
    {
     "data": {
      "text/html": [
       "<div>\n",
       "<style scoped>\n",
       "    .dataframe tbody tr th:only-of-type {\n",
       "        vertical-align: middle;\n",
       "    }\n",
       "\n",
       "    .dataframe tbody tr th {\n",
       "        vertical-align: top;\n",
       "    }\n",
       "\n",
       "    .dataframe thead th {\n",
       "        text-align: right;\n",
       "    }\n",
       "</style>\n",
       "<table border=\"1\" class=\"dataframe\">\n",
       "  <thead>\n",
       "    <tr style=\"text-align: right;\">\n",
       "      <th></th>\n",
       "      <th>0</th>\n",
       "      <th>1</th>\n",
       "      <th>2</th>\n",
       "      <th>3</th>\n",
       "      <th>4</th>\n",
       "    </tr>\n",
       "  </thead>\n",
       "  <tbody>\n",
       "    <tr>\n",
       "      <th>0</th>\n",
       "      <td>Playground</td>\n",
       "      <td>Gym</td>\n",
       "      <td>Garden</td>\n",
       "      <td>Pool</td>\n",
       "      <td>Clubhouse</td>\n",
       "    </tr>\n",
       "    <tr>\n",
       "      <th>1</th>\n",
       "      <td>Playground</td>\n",
       "      <td>Clubhouse</td>\n",
       "      <td>Pool</td>\n",
       "      <td>Gym</td>\n",
       "      <td>Garden</td>\n",
       "    </tr>\n",
       "    <tr>\n",
       "      <th>2</th>\n",
       "      <td>Clubhouse</td>\n",
       "      <td>Pool</td>\n",
       "      <td>Playground</td>\n",
       "      <td>Gym</td>\n",
       "      <td>None</td>\n",
       "    </tr>\n",
       "    <tr>\n",
       "      <th>3</th>\n",
       "      <td>Playground</td>\n",
       "      <td>Clubhouse</td>\n",
       "      <td>Gym</td>\n",
       "      <td>Pool</td>\n",
       "      <td>Garden</td>\n",
       "    </tr>\n",
       "    <tr>\n",
       "      <th>4</th>\n",
       "      <td>Playground</td>\n",
       "      <td>Garden</td>\n",
       "      <td>Gym</td>\n",
       "      <td>Pool</td>\n",
       "      <td>Clubhouse</td>\n",
       "    </tr>\n",
       "    <tr>\n",
       "      <th>...</th>\n",
       "      <td>...</td>\n",
       "      <td>...</td>\n",
       "      <td>...</td>\n",
       "      <td>...</td>\n",
       "      <td>...</td>\n",
       "    </tr>\n",
       "    <tr>\n",
       "      <th>249995</th>\n",
       "      <td>Playground</td>\n",
       "      <td>Garden</td>\n",
       "      <td>Gym</td>\n",
       "      <td>Clubhouse</td>\n",
       "      <td>Pool</td>\n",
       "    </tr>\n",
       "    <tr>\n",
       "      <th>249996</th>\n",
       "      <td>Playground</td>\n",
       "      <td>None</td>\n",
       "      <td>None</td>\n",
       "      <td>None</td>\n",
       "      <td>None</td>\n",
       "    </tr>\n",
       "    <tr>\n",
       "      <th>249997</th>\n",
       "      <td>Playground</td>\n",
       "      <td>None</td>\n",
       "      <td>None</td>\n",
       "      <td>None</td>\n",
       "      <td>None</td>\n",
       "    </tr>\n",
       "    <tr>\n",
       "      <th>249998</th>\n",
       "      <td>Playground</td>\n",
       "      <td>Gym</td>\n",
       "      <td>Pool</td>\n",
       "      <td>None</td>\n",
       "      <td>None</td>\n",
       "    </tr>\n",
       "    <tr>\n",
       "      <th>249999</th>\n",
       "      <td>Gym</td>\n",
       "      <td>Garden</td>\n",
       "      <td>None</td>\n",
       "      <td>None</td>\n",
       "      <td>None</td>\n",
       "    </tr>\n",
       "  </tbody>\n",
       "</table>\n",
       "<p>250000 rows × 5 columns</p>\n",
       "</div>"
      ],
      "text/plain": [
       "                 0           1            2           3           4\n",
       "0       Playground         Gym       Garden        Pool   Clubhouse\n",
       "1       Playground   Clubhouse         Pool         Gym      Garden\n",
       "2        Clubhouse        Pool   Playground         Gym        None\n",
       "3       Playground   Clubhouse          Gym        Pool      Garden\n",
       "4       Playground      Garden          Gym        Pool   Clubhouse\n",
       "...            ...         ...          ...         ...         ...\n",
       "249995  Playground      Garden          Gym   Clubhouse        Pool\n",
       "249996  Playground        None         None        None        None\n",
       "249997  Playground        None         None        None        None\n",
       "249998  Playground         Gym         Pool        None        None\n",
       "249999         Gym      Garden         None        None        None\n",
       "\n",
       "[250000 rows x 5 columns]"
      ]
     },
     "execution_count": 27,
     "metadata": {},
     "output_type": "execute_result"
    }
   ],
   "source": [
    "df.Amenities.str.split(',',expand=True)"
   ]
  },
  {
   "cell_type": "code",
   "execution_count": 28,
   "id": "117838c1-1b07-4cfb-aaa3-c63e4ffbd825",
   "metadata": {},
   "outputs": [],
   "source": [
    "df['has_Playground']=df.Amenities.str.contains('Playground')"
   ]
  },
  {
   "cell_type": "code",
   "execution_count": 29,
   "id": "fb208ac8-07f3-4026-82c9-36bbdbc4825f",
   "metadata": {},
   "outputs": [],
   "source": [
    "df['has_Pool']=df.Amenities.str.contains('Pool')"
   ]
  },
  {
   "cell_type": "code",
   "execution_count": 30,
   "id": "1b062e36-8826-4d6f-ba48-9b397fd50411",
   "metadata": {},
   "outputs": [],
   "source": [
    "df['has_Gym']=df.Amenities.str.contains('Gym')"
   ]
  },
  {
   "cell_type": "code",
   "execution_count": 31,
   "id": "52f43c31-4464-4b6d-9b14-89598103230a",
   "metadata": {},
   "outputs": [],
   "source": [
    "df['has_Clubhouse']=df.Amenities.str.contains('Clubhouse')"
   ]
  },
  {
   "cell_type": "code",
   "execution_count": 32,
   "id": "49866dc7-cbf2-4fa7-87ec-8b9521734766",
   "metadata": {},
   "outputs": [],
   "source": [
    "df['has_Garden']=df.Amenities.str.contains('Garden')"
   ]
  },
  {
   "cell_type": "markdown",
   "id": "1b69376b-ca53-4a4f-8cb0-4c8d4f4d4400",
   "metadata": {},
   "source": [
    "##### Floor Number modification"
   ]
  },
  {
   "cell_type": "code",
   "execution_count": 33,
   "id": "04df9271-2d50-4f1a-ac1a-81a5422f7c13",
   "metadata": {},
   "outputs": [],
   "source": [
    "def set_floor(floor):\n",
    "    if floor==0:\n",
    "        return 'Ground'\n",
    "    elif floor<=5:\n",
    "        return 'Lower'\n",
    "    elif floor>=5:\n",
    "        return 'Higher'"
   ]
  },
  {
   "cell_type": "code",
   "execution_count": 34,
   "id": "10053028-f43b-42d7-bae9-0c1b5268b448",
   "metadata": {},
   "outputs": [],
   "source": [
    "df['Floor_type']=df.Floor_No.apply(set_floor)"
   ]
  },
  {
   "cell_type": "code",
   "execution_count": 35,
   "id": "28ec9c51-eb78-4200-9ae7-572609573be3",
   "metadata": {},
   "outputs": [
    {
     "data": {
      "text/plain": [
       "Floor_type\n",
       "Higher    201400\n",
       "Lower      40397\n",
       "Ground      8203\n",
       "Name: count, dtype: int64"
      ]
     },
     "execution_count": 35,
     "metadata": {},
     "output_type": "execute_result"
    }
   ],
   "source": [
    "df['Floor_type'].value_counts(dropna=False)"
   ]
  },
  {
   "cell_type": "code",
   "execution_count": 36,
   "id": "ff751e6d-7371-4022-8ad9-21ea97936cd6",
   "metadata": {},
   "outputs": [
    {
     "data": {
      "text/plain": [
       "Total_Floors  Floor_No\n",
       "24            7           326\n",
       "23            20          321\n",
       "30            25          318\n",
       "3             8           317\n",
       "9             27          316\n",
       "                         ... \n",
       "7             7           227\n",
       "14            15          224\n",
       "21            4           223\n",
       "28            3           222\n",
       "24            30          217\n",
       "Name: count, Length: 930, dtype: int64"
      ]
     },
     "execution_count": 36,
     "metadata": {},
     "output_type": "execute_result"
    }
   ],
   "source": [
    "df[['Total_Floors','Floor_No']].value_counts()"
   ]
  },
  {
   "cell_type": "code",
   "execution_count": 37,
   "id": "8515f683-ec52-47ba-97bc-8923f32af10a",
   "metadata": {},
   "outputs": [],
   "source": [
    "df['Floor_to_total_floor_ratio']=np.where(df.Floor_No>0,df.Floor_No / df.Total_Floors,0)"
   ]
  },
  {
   "cell_type": "code",
   "execution_count": 38,
   "id": "5903c8b6-63db-4e47-805f-69c8d3534787",
   "metadata": {},
   "outputs": [
    {
     "data": {
      "text/plain": [
       "count    250000.000000\n",
       "mean          1.995351\n",
       "std           3.518869\n",
       "min           0.000000\n",
       "25%           0.466667\n",
       "50%           0.964286\n",
       "75%           1.888889\n",
       "max          30.000000\n",
       "Name: Floor_to_total_floor_ratio, dtype: float64"
      ]
     },
     "execution_count": 38,
     "metadata": {},
     "output_type": "execute_result"
    }
   ],
   "source": [
    "df['Floor_to_total_floor_ratio'].describe()"
   ]
  },
  {
   "cell_type": "markdown",
   "id": "ee29685d-e6d8-41a1-9d34-94ad48d2202a",
   "metadata": {},
   "source": [
    "##### parking space"
   ]
  },
  {
   "cell_type": "code",
   "execution_count": 39,
   "id": "ea2ac073-73d9-40ab-8aac-bbcef7e9c728",
   "metadata": {},
   "outputs": [],
   "source": [
    "df['Parking_Space_new']=np.where(df.Parking_Space=='Yes',1,0)"
   ]
  },
  {
   "cell_type": "code",
   "execution_count": 40,
   "id": "f5751faa-18b9-45dd-a6fa-a15089f0d1e2",
   "metadata": {
    "scrolled": true
   },
   "outputs": [
    {
     "data": {
      "text/plain": [
       "Parking_Space_new\n",
       "0    125456\n",
       "1    124544\n",
       "Name: count, dtype: int64"
      ]
     },
     "execution_count": 40,
     "metadata": {},
     "output_type": "execute_result"
    }
   ],
   "source": [
    "df.Parking_Space_new.value_counts()"
   ]
  },
  {
   "cell_type": "markdown",
   "id": "92df0c47-8781-469d-9733-e49e9746ec36",
   "metadata": {},
   "source": [
    "##### encoding the feature with onehot for linear model"
   ]
  },
  {
   "cell_type": "code",
   "execution_count": 41,
   "id": "46a92e2e-c514-4001-8354-78b9b7fa3f1b",
   "metadata": {},
   "outputs": [
    {
     "data": {
      "text/html": [
       "<div>\n",
       "<style scoped>\n",
       "    .dataframe tbody tr th:only-of-type {\n",
       "        vertical-align: middle;\n",
       "    }\n",
       "\n",
       "    .dataframe tbody tr th {\n",
       "        vertical-align: top;\n",
       "    }\n",
       "\n",
       "    .dataframe thead th {\n",
       "        text-align: right;\n",
       "    }\n",
       "</style>\n",
       "<table border=\"1\" class=\"dataframe\">\n",
       "  <thead>\n",
       "    <tr style=\"text-align: right;\">\n",
       "      <th></th>\n",
       "      <th>ID</th>\n",
       "      <th>BHK</th>\n",
       "      <th>Size_in_SqFt</th>\n",
       "      <th>Price_in_Lakhs</th>\n",
       "      <th>Price_per_SqFt</th>\n",
       "      <th>Year_Built</th>\n",
       "      <th>Floor_No</th>\n",
       "      <th>Total_Floors</th>\n",
       "      <th>Age_of_Property</th>\n",
       "      <th>Nearby_Schools</th>\n",
       "      <th>Nearby_Hospitals</th>\n",
       "      <th>No_of_Years</th>\n",
       "      <th>Floor_to_total_floor_ratio</th>\n",
       "      <th>Parking_Space_new</th>\n",
       "    </tr>\n",
       "  </thead>\n",
       "  <tbody>\n",
       "    <tr>\n",
       "      <th>count</th>\n",
       "      <td>250000.000000</td>\n",
       "      <td>250000.000000</td>\n",
       "      <td>250000.000000</td>\n",
       "      <td>250000.000000</td>\n",
       "      <td>250000.000000</td>\n",
       "      <td>250000.000000</td>\n",
       "      <td>250000.000000</td>\n",
       "      <td>250000.000000</td>\n",
       "      <td>250000.000000</td>\n",
       "      <td>250000.000000</td>\n",
       "      <td>250000.000000</td>\n",
       "      <td>250000.000000</td>\n",
       "      <td>250000.000000</td>\n",
       "      <td>250000.000000</td>\n",
       "    </tr>\n",
       "    <tr>\n",
       "      <th>mean</th>\n",
       "      <td>125000.500000</td>\n",
       "      <td>2.999396</td>\n",
       "      <td>2749.813216</td>\n",
       "      <td>254.586854</td>\n",
       "      <td>0.130597</td>\n",
       "      <td>2006.520012</td>\n",
       "      <td>14.966800</td>\n",
       "      <td>15.503004</td>\n",
       "      <td>18.479988</td>\n",
       "      <td>5.499860</td>\n",
       "      <td>5.498016</td>\n",
       "      <td>18.479988</td>\n",
       "      <td>1.995351</td>\n",
       "      <td>0.498176</td>\n",
       "    </tr>\n",
       "    <tr>\n",
       "      <th>std</th>\n",
       "      <td>72168.927986</td>\n",
       "      <td>1.415521</td>\n",
       "      <td>1300.606954</td>\n",
       "      <td>141.349921</td>\n",
       "      <td>0.130747</td>\n",
       "      <td>9.808575</td>\n",
       "      <td>8.948047</td>\n",
       "      <td>8.671618</td>\n",
       "      <td>9.808575</td>\n",
       "      <td>2.878639</td>\n",
       "      <td>2.871860</td>\n",
       "      <td>9.808575</td>\n",
       "      <td>3.518869</td>\n",
       "      <td>0.499998</td>\n",
       "    </tr>\n",
       "    <tr>\n",
       "      <th>min</th>\n",
       "      <td>1.000000</td>\n",
       "      <td>1.000000</td>\n",
       "      <td>500.000000</td>\n",
       "      <td>10.000000</td>\n",
       "      <td>0.000000</td>\n",
       "      <td>1990.000000</td>\n",
       "      <td>0.000000</td>\n",
       "      <td>1.000000</td>\n",
       "      <td>2.000000</td>\n",
       "      <td>1.000000</td>\n",
       "      <td>1.000000</td>\n",
       "      <td>2.000000</td>\n",
       "      <td>0.000000</td>\n",
       "      <td>0.000000</td>\n",
       "    </tr>\n",
       "    <tr>\n",
       "      <th>25%</th>\n",
       "      <td>62500.750000</td>\n",
       "      <td>2.000000</td>\n",
       "      <td>1623.000000</td>\n",
       "      <td>132.550000</td>\n",
       "      <td>0.050000</td>\n",
       "      <td>1998.000000</td>\n",
       "      <td>7.000000</td>\n",
       "      <td>8.000000</td>\n",
       "      <td>10.000000</td>\n",
       "      <td>3.000000</td>\n",
       "      <td>3.000000</td>\n",
       "      <td>10.000000</td>\n",
       "      <td>0.466667</td>\n",
       "      <td>0.000000</td>\n",
       "    </tr>\n",
       "    <tr>\n",
       "      <th>50%</th>\n",
       "      <td>125000.500000</td>\n",
       "      <td>3.000000</td>\n",
       "      <td>2747.000000</td>\n",
       "      <td>253.870000</td>\n",
       "      <td>0.090000</td>\n",
       "      <td>2007.000000</td>\n",
       "      <td>15.000000</td>\n",
       "      <td>15.000000</td>\n",
       "      <td>18.000000</td>\n",
       "      <td>5.000000</td>\n",
       "      <td>5.000000</td>\n",
       "      <td>18.000000</td>\n",
       "      <td>0.964286</td>\n",
       "      <td>0.000000</td>\n",
       "    </tr>\n",
       "    <tr>\n",
       "      <th>75%</th>\n",
       "      <td>187500.250000</td>\n",
       "      <td>4.000000</td>\n",
       "      <td>3874.000000</td>\n",
       "      <td>376.880000</td>\n",
       "      <td>0.160000</td>\n",
       "      <td>2015.000000</td>\n",
       "      <td>23.000000</td>\n",
       "      <td>23.000000</td>\n",
       "      <td>27.000000</td>\n",
       "      <td>8.000000</td>\n",
       "      <td>8.000000</td>\n",
       "      <td>27.000000</td>\n",
       "      <td>1.888889</td>\n",
       "      <td>1.000000</td>\n",
       "    </tr>\n",
       "    <tr>\n",
       "      <th>max</th>\n",
       "      <td>250000.000000</td>\n",
       "      <td>5.000000</td>\n",
       "      <td>5000.000000</td>\n",
       "      <td>500.000000</td>\n",
       "      <td>0.990000</td>\n",
       "      <td>2023.000000</td>\n",
       "      <td>30.000000</td>\n",
       "      <td>30.000000</td>\n",
       "      <td>35.000000</td>\n",
       "      <td>10.000000</td>\n",
       "      <td>10.000000</td>\n",
       "      <td>35.000000</td>\n",
       "      <td>30.000000</td>\n",
       "      <td>1.000000</td>\n",
       "    </tr>\n",
       "  </tbody>\n",
       "</table>\n",
       "</div>"
      ],
      "text/plain": [
       "                  ID            BHK   Size_in_SqFt  Price_in_Lakhs  \\\n",
       "count  250000.000000  250000.000000  250000.000000   250000.000000   \n",
       "mean   125000.500000       2.999396    2749.813216      254.586854   \n",
       "std     72168.927986       1.415521    1300.606954      141.349921   \n",
       "min         1.000000       1.000000     500.000000       10.000000   \n",
       "25%     62500.750000       2.000000    1623.000000      132.550000   \n",
       "50%    125000.500000       3.000000    2747.000000      253.870000   \n",
       "75%    187500.250000       4.000000    3874.000000      376.880000   \n",
       "max    250000.000000       5.000000    5000.000000      500.000000   \n",
       "\n",
       "       Price_per_SqFt     Year_Built       Floor_No   Total_Floors  \\\n",
       "count   250000.000000  250000.000000  250000.000000  250000.000000   \n",
       "mean         0.130597    2006.520012      14.966800      15.503004   \n",
       "std          0.130747       9.808575       8.948047       8.671618   \n",
       "min          0.000000    1990.000000       0.000000       1.000000   \n",
       "25%          0.050000    1998.000000       7.000000       8.000000   \n",
       "50%          0.090000    2007.000000      15.000000      15.000000   \n",
       "75%          0.160000    2015.000000      23.000000      23.000000   \n",
       "max          0.990000    2023.000000      30.000000      30.000000   \n",
       "\n",
       "       Age_of_Property  Nearby_Schools  Nearby_Hospitals    No_of_Years  \\\n",
       "count    250000.000000   250000.000000     250000.000000  250000.000000   \n",
       "mean         18.479988        5.499860          5.498016      18.479988   \n",
       "std           9.808575        2.878639          2.871860       9.808575   \n",
       "min           2.000000        1.000000          1.000000       2.000000   \n",
       "25%          10.000000        3.000000          3.000000      10.000000   \n",
       "50%          18.000000        5.000000          5.000000      18.000000   \n",
       "75%          27.000000        8.000000          8.000000      27.000000   \n",
       "max          35.000000       10.000000         10.000000      35.000000   \n",
       "\n",
       "       Floor_to_total_floor_ratio  Parking_Space_new  \n",
       "count               250000.000000      250000.000000  \n",
       "mean                     1.995351           0.498176  \n",
       "std                      3.518869           0.499998  \n",
       "min                      0.000000           0.000000  \n",
       "25%                      0.466667           0.000000  \n",
       "50%                      0.964286           0.000000  \n",
       "75%                      1.888889           1.000000  \n",
       "max                     30.000000           1.000000  "
      ]
     },
     "execution_count": 41,
     "metadata": {},
     "output_type": "execute_result"
    }
   ],
   "source": [
    "df.describe()"
   ]
  },
  {
   "cell_type": "code",
   "execution_count": 42,
   "id": "3b68dac0-5d87-4a75-b037-ec2c22593af1",
   "metadata": {},
   "outputs": [
    {
     "name": "stdout",
     "output_type": "stream",
     "text": [
      "<class 'pandas.core.frame.DataFrame'>\n",
      "RangeIndex: 250000 entries, 0 to 249999\n",
      "Data columns (total 32 columns):\n",
      " #   Column                          Non-Null Count   Dtype  \n",
      "---  ------                          --------------   -----  \n",
      " 0   ID                              250000 non-null  int64  \n",
      " 1   State                           250000 non-null  object \n",
      " 2   City                            250000 non-null  object \n",
      " 3   Locality                        250000 non-null  object \n",
      " 4   Property_Type                   250000 non-null  object \n",
      " 5   BHK                             250000 non-null  int64  \n",
      " 6   Size_in_SqFt                    250000 non-null  int64  \n",
      " 7   Price_in_Lakhs                  250000 non-null  float64\n",
      " 8   Price_per_SqFt                  250000 non-null  float64\n",
      " 9   Year_Built                      250000 non-null  int64  \n",
      " 10  Furnished_Status                250000 non-null  object \n",
      " 11  Floor_No                        250000 non-null  int64  \n",
      " 12  Total_Floors                    250000 non-null  int64  \n",
      " 13  Age_of_Property                 250000 non-null  int64  \n",
      " 14  Nearby_Schools                  250000 non-null  int64  \n",
      " 15  Nearby_Hospitals                250000 non-null  int64  \n",
      " 16  Public_Transport_Accessibility  250000 non-null  object \n",
      " 17  Parking_Space                   250000 non-null  object \n",
      " 18  Security                        250000 non-null  object \n",
      " 19  Amenities                       250000 non-null  object \n",
      " 20  Facing                          250000 non-null  object \n",
      " 21  Owner_Type                      250000 non-null  object \n",
      " 22  Availability_Status             250000 non-null  object \n",
      " 23  No_of_Years                     250000 non-null  int64  \n",
      " 24  has_Playground                  250000 non-null  bool   \n",
      " 25  has_Pool                        250000 non-null  bool   \n",
      " 26  has_Gym                         250000 non-null  bool   \n",
      " 27  has_Clubhouse                   250000 non-null  bool   \n",
      " 28  has_Garden                      250000 non-null  bool   \n",
      " 29  Floor_type                      250000 non-null  object \n",
      " 30  Floor_to_total_floor_ratio      250000 non-null  float64\n",
      " 31  Parking_Space_new               250000 non-null  int32  \n",
      "dtypes: bool(5), float64(3), int32(1), int64(10), object(13)\n",
      "memory usage: 51.7+ MB\n"
     ]
    }
   ],
   "source": [
    "df.info()"
   ]
  },
  {
   "cell_type": "code",
   "execution_count": 51,
   "id": "07d5725e-fdd2-4de0-803f-21bda0c0a4fc",
   "metadata": {},
   "outputs": [],
   "source": [
    "feat_to_encode=[\n",
    "    'State',\n",
    "    'Furnished_Status',\n",
    "    'Property_Type',\n",
    "    'Public_Transport_Accessibility',\n",
    "    'Parking_Space',\n",
    "    'Security',\n",
    "    'Facing',\n",
    "    'Owner_Type',\n",
    "    'Availability_Status',\n",
    "    'Floor_type']"
   ]
  },
  {
   "cell_type": "code",
   "execution_count": 52,
   "id": "0ea8acb9-6f49-44af-bbd5-9b75efe1f908",
   "metadata": {},
   "outputs": [],
   "source": [
    "one_hot_encoded_df = pd.get_dummies(df,columns=feat_to_encode, drop_first=True)"
   ]
  },
  {
   "cell_type": "code",
   "execution_count": 53,
   "id": "3d42b40e-dd68-4ad5-a91c-8db33a0315bb",
   "metadata": {},
   "outputs": [
    {
     "data": {
      "text/plain": [
       "Index(['ID', 'City', 'Locality', 'BHK', 'Size_in_SqFt', 'Price_in_Lakhs',\n",
       "       'Price_per_SqFt', 'Year_Built', 'Floor_No', 'Total_Floors',\n",
       "       'Age_of_Property', 'Nearby_Schools', 'Nearby_Hospitals', 'Amenities',\n",
       "       'No_of_Years', 'has_Playground', 'has_Pool', 'has_Gym', 'has_Clubhouse',\n",
       "       'has_Garden', 'Floor_to_total_floor_ratio', 'Parking_Space_new',\n",
       "       'State_Assam', 'State_Bihar', 'State_Chhattisgarh', 'State_Delhi',\n",
       "       'State_Gujarat', 'State_Haryana', 'State_Jharkhand', 'State_Karnataka',\n",
       "       'State_Kerala', 'State_Madhya Pradesh', 'State_Maharashtra',\n",
       "       'State_Odisha', 'State_Punjab', 'State_Rajasthan', 'State_Tamil Nadu',\n",
       "       'State_Telangana', 'State_Uttar Pradesh', 'State_Uttarakhand',\n",
       "       'State_West Bengal', 'Furnished_Status_Semi-furnished',\n",
       "       'Furnished_Status_Unfurnished', 'Property_Type_Independent House',\n",
       "       'Property_Type_Villa', 'Public_Transport_Accessibility_Low',\n",
       "       'Public_Transport_Accessibility_Medium', 'Parking_Space_Yes',\n",
       "       'Security_Yes', 'Facing_North', 'Facing_South', 'Facing_West',\n",
       "       'Owner_Type_Builder', 'Owner_Type_Owner',\n",
       "       'Availability_Status_Under_Construction', 'Floor_type_Higher',\n",
       "       'Floor_type_Lower'],\n",
       "      dtype='object')"
      ]
     },
     "execution_count": 53,
     "metadata": {},
     "output_type": "execute_result"
    }
   ],
   "source": [
    "one_hot_encoded_df.columns"
   ]
  },
  {
   "cell_type": "markdown",
   "id": "cc3e291d-3d32-415a-aaba-ea7e6cf45203",
   "metadata": {},
   "source": [
    "#### Final Model Code"
   ]
  },
  {
   "cell_type": "code",
   "execution_count": 54,
   "id": "fd012837-4bdd-415c-8898-73466c2e54cd",
   "metadata": {},
   "outputs": [],
   "source": [
    "from sklearn.model_selection import train_test_split\n",
    "from sklearn.linear_model import LinearRegression\n",
    "from sklearn.metrics import mean_squared_error, r2_score"
   ]
  },
  {
   "cell_type": "code",
   "execution_count": 58,
   "id": "7f43263b-2220-42b4-a85e-01a938fde6a3",
   "metadata": {},
   "outputs": [
    {
     "data": {
      "text/plain": [
       "(250000, 57)"
      ]
     },
     "execution_count": 58,
     "metadata": {},
     "output_type": "execute_result"
    }
   ],
   "source": [
    "one_hot_encoded_df.shape"
   ]
  },
  {
   "cell_type": "code",
   "execution_count": 82,
   "id": "4027ed5e-4231-4cfc-951e-ba18d86edd61",
   "metadata": {},
   "outputs": [],
   "source": [
    "X= one_hot_encoded_df[['BHK','Size_in_SqFt','Price_per_SqFt',  'Floor_No', \n",
    "       'Age_of_Property', 'Nearby_Schools', 'Nearby_Hospitals', 'has_Playground', 'has_Pool', 'has_Gym', 'has_Clubhouse',\n",
    "       'has_Garden', 'Floor_to_total_floor_ratio', 'Parking_Space_new',\n",
    "        'Furnished_Status_Semi-furnished',\n",
    "       'Furnished_Status_Unfurnished', 'Property_Type_Independent House',\n",
    "       'Property_Type_Villa', 'Public_Transport_Accessibility_Low',\n",
    "       'Public_Transport_Accessibility_Medium', 'Parking_Space_Yes',\n",
    "       'Security_Yes', 'Facing_North', 'Facing_South', 'Facing_West',\n",
    "       'Owner_Type_Builder', 'Owner_Type_Owner',\n",
    "       'Availability_Status_Under_Construction', 'Floor_type_Higher',\n",
    "       'Floor_type_Lower']]"
   ]
  },
  {
   "cell_type": "code",
   "execution_count": 83,
   "id": "786872e4-b888-4345-9d87-c7b21c1c9af2",
   "metadata": {},
   "outputs": [
    {
     "name": "stdout",
     "output_type": "stream",
     "text": [
      "<class 'pandas.core.frame.DataFrame'>\n",
      "RangeIndex: 250000 entries, 0 to 249999\n",
      "Data columns (total 30 columns):\n",
      " #   Column                                  Non-Null Count   Dtype  \n",
      "---  ------                                  --------------   -----  \n",
      " 0   BHK                                     250000 non-null  int64  \n",
      " 1   Size_in_SqFt                            250000 non-null  int64  \n",
      " 2   Price_per_SqFt                          250000 non-null  float64\n",
      " 3   Floor_No                                250000 non-null  int64  \n",
      " 4   Age_of_Property                         250000 non-null  int64  \n",
      " 5   Nearby_Schools                          250000 non-null  int64  \n",
      " 6   Nearby_Hospitals                        250000 non-null  int64  \n",
      " 7   has_Playground                          250000 non-null  bool   \n",
      " 8   has_Pool                                250000 non-null  bool   \n",
      " 9   has_Gym                                 250000 non-null  bool   \n",
      " 10  has_Clubhouse                           250000 non-null  bool   \n",
      " 11  has_Garden                              250000 non-null  bool   \n",
      " 12  Floor_to_total_floor_ratio              250000 non-null  float64\n",
      " 13  Parking_Space_new                       250000 non-null  int32  \n",
      " 14  Furnished_Status_Semi-furnished         250000 non-null  bool   \n",
      " 15  Furnished_Status_Unfurnished            250000 non-null  bool   \n",
      " 16  Property_Type_Independent House         250000 non-null  bool   \n",
      " 17  Property_Type_Villa                     250000 non-null  bool   \n",
      " 18  Public_Transport_Accessibility_Low      250000 non-null  bool   \n",
      " 19  Public_Transport_Accessibility_Medium   250000 non-null  bool   \n",
      " 20  Parking_Space_Yes                       250000 non-null  bool   \n",
      " 21  Security_Yes                            250000 non-null  bool   \n",
      " 22  Facing_North                            250000 non-null  bool   \n",
      " 23  Facing_South                            250000 non-null  bool   \n",
      " 24  Facing_West                             250000 non-null  bool   \n",
      " 25  Owner_Type_Builder                      250000 non-null  bool   \n",
      " 26  Owner_Type_Owner                        250000 non-null  bool   \n",
      " 27  Availability_Status_Under_Construction  250000 non-null  bool   \n",
      " 28  Floor_type_Higher                       250000 non-null  bool   \n",
      " 29  Floor_type_Lower                        250000 non-null  bool   \n",
      "dtypes: bool(21), float64(2), int32(1), int64(6)\n",
      "memory usage: 21.2 MB\n"
     ]
    }
   ],
   "source": [
    "X.info()"
   ]
  },
  {
   "cell_type": "code",
   "execution_count": 84,
   "id": "8a41f97a-f050-41f6-9aa9-bf4118e5bbf2",
   "metadata": {},
   "outputs": [],
   "source": [
    "y=one_hot_encoded_df['Price_in_Lakhs']"
   ]
  },
  {
   "cell_type": "code",
   "execution_count": 85,
   "id": "154baa45-c303-4870-bde1-b1f1ae552acc",
   "metadata": {},
   "outputs": [],
   "source": [
    "X_train, X_test, y_train, y_test = train_test_split(X, y, test_size=0.3, random_state=42)"
   ]
  },
  {
   "cell_type": "code",
   "execution_count": 87,
   "id": "b56b9270-ed2d-4c42-b790-cfee4736e348",
   "metadata": {},
   "outputs": [
    {
     "name": "stdout",
     "output_type": "stream",
     "text": [
      "Intercept: -32.61653679633423\n",
      "Coefficient: [-8.17321415e-02  5.92311850e-02  9.62024565e+02  2.80805231e-02\n",
      " -5.25897895e-03  1.98289979e-04 -5.78382724e-02 -4.59075153e-01\n",
      " -1.23983679e-01  6.66444646e-01  2.63899500e-01 -1.58755251e-01\n",
      "  9.13198350e-04  1.04493517e-01 -5.76319272e-01  6.47074805e-02\n",
      "  1.84557612e-01 -1.11408752e+00 -1.08362128e-01 -2.91310097e-01\n",
      "  1.04493517e-01  8.84357677e-01  6.92151889e-02 -6.84970917e-02\n",
      " -4.47716499e-02 -1.36969501e-01 -7.40750485e-01 -2.25891862e-01\n",
      " -7.29462064e-01 -6.47183316e-01]\n",
      "Mean Squared Error (MSE): 10129.966247931825\n",
      "R-squared: 0.49255504344882606\n"
     ]
    }
   ],
   "source": [
    "# Create a Linear Regression model\n",
    "model = LinearRegression()\n",
    "\n",
    "# Train the model\n",
    "model.fit(X_train, y_train)\n",
    "\n",
    "# Make predictions\n",
    "y_pred = model.predict(X_test)\n",
    "\n",
    "# Evaluate the model\n",
    "mse = mean_squared_error(y_test, y_pred)\n",
    "r2 = r2_score(y_test, y_pred)\n",
    "\n",
    "# Display results\n",
    "print(\"Intercept:\", model.intercept_)\n",
    "print(\"Coefficient:\", model.coef_)\n",
    "print(\"Mean Squared Error (MSE):\", mse)\n",
    "print(\"R-squared:\", r2)\n"
   ]
  }
 ],
 "metadata": {
  "kernelspec": {
   "display_name": "Python 3 (ipykernel)",
   "language": "python",
   "name": "python3"
  },
  "language_info": {
   "codemirror_mode": {
    "name": "ipython",
    "version": 3
   },
   "file_extension": ".py",
   "mimetype": "text/x-python",
   "name": "python",
   "nbconvert_exporter": "python",
   "pygments_lexer": "ipython3",
   "version": "3.12.4"
  }
 },
 "nbformat": 4,
 "nbformat_minor": 5
}
